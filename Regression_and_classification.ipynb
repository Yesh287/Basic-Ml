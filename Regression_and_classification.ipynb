{
  "nbformat": 4,
  "nbformat_minor": 0,
  "metadata": {
    "colab": {
      "provenance": [],
      "authorship_tag": "ABX9TyON5bPiNwysUrRTnZUQwcOS",
      "include_colab_link": true
    },
    "kernelspec": {
      "name": "python3",
      "display_name": "Python 3"
    },
    "language_info": {
      "name": "python"
    }
  },
  "cells": [
    {
      "cell_type": "markdown",
      "metadata": {
        "id": "view-in-github",
        "colab_type": "text"
      },
      "source": [
        "<a href=\"https://colab.research.google.com/github/Yesh287/Basic-Ml/blob/main/Regression_and_classification.ipynb\" target=\"_parent\"><img src=\"https://colab.research.google.com/assets/colab-badge.svg\" alt=\"Open In Colab\"/></a>"
      ]
    },
    {
      "cell_type": "code",
      "execution_count": 21,
      "metadata": {
        "colab": {
          "base_uri": "https://localhost:8080/"
        },
        "id": "CjEM-ihyyUK_",
        "outputId": "da22b70d-a832-425e-e653-666035bf6a58"
      },
      "outputs": [
        {
          "output_type": "stream",
          "name": "stdout",
          "text": [
            "[2.058 0.28  0.2  ]\n",
            "0.12169425991635882\n",
            "[2.71308534 1.51062743 1.90992681]\n",
            "9.885471701539515e-06\n",
            "[2.84327201 1.72811715 2.20058339]\n",
            "2.4796379373871506e-06\n",
            "[2.92168801 1.85614147 2.36988625]\n",
            "1.1041199391639963e-06\n",
            "[2.97833767 1.94731605 2.489649  ]\n",
            "6.220269770438377e-07\n",
            "[3.02285744 2.01822734 2.58233158]\n",
            "3.986425368192143e-07\n",
            "[3.05960778 2.07628859 2.6579187 ]\n",
            "2.7717897010872157e-07\n",
            "[3.09094246 2.12546402 2.72172759]\n",
            "2.0387385917215813e-07\n",
            "[3.11827995 2.16812454 2.77692757]\n",
            "1.562556070455362e-07\n",
            "[3.14254261 2.20580195 2.82556035]\n",
            "1.2358254245784546e-07\n"
          ]
        }
      ],
      "source": [
        "import numpy as np\n",
        "import math as math\n",
        "\n",
        "def sigmoid(z):\n",
        "  return 1/(1+np.exp(-z))\n",
        "\n",
        "def cost(x,y,w,b):\n",
        "  total_cost = 0\n",
        "  n,m = x.shape\n",
        "  for i in range(n):\n",
        "    prediction = sigmoid(np.dot(x[i],w)+b)\n",
        "    total_cost += (prediction-y[i])**2\n",
        "  return total_cost/n\n",
        "\n",
        "def gradient_descent(x,y,w,b):\n",
        "  n,m = x.shape\n",
        "  dj_dw = np.zeros(m)\n",
        "  dj_db = np.array(0.0)\n",
        "  for i in range(n):\n",
        "    z = np.dot(x[i], w) + b\n",
        "    pred = sigmoid(z)\n",
        "    err = pred - y[i]\n",
        "    dj_dw += err*x[i]\n",
        "    dj_db += err\n",
        "  dj_dw /= n\n",
        "  dj_db /= n\n",
        "  return dj_dw, dj_db\n",
        "\n",
        "def gradient_iteration(x,y,w,b,alpha,iterations):\n",
        "  n,m = x.shape\n",
        "  for i in range(iterations):\n",
        "    dj_dw, dj_db = gradient_descent(x,y,w,b)\n",
        "    w -= alpha*dj_dw\n",
        "    b -= dj_db\n",
        "    if((i)%math.ceil(iterations/10) == 0):\n",
        "      print(w)\n",
        "      print(cost(x,y,w,b))\n",
        "\n",
        "w = np.zeros(3)\n",
        "x = np.array([[1,2,3],\n",
        "              [0,0,0],\n",
        "              [0.1,0,0],\n",
        "               [100,10,5],\n",
        "                [2,2,2]])\n",
        "y = np.array([1,0,0,1,1])\n",
        "b = np.array(0.0)\n",
        "alpha = 0.2\n",
        "iterations = 10000\n",
        "gradient_iteration(x,y,w,b,alpha,iterations)"
      ]
    }
  ]
}